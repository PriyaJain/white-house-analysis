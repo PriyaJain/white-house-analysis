{
 "cells": [
  {
   "cell_type": "code",
   "execution_count": 84,
   "metadata": {
    "collapsed": false
   },
   "outputs": [],
   "source": [
    "import pandas as pd\n",
    "from pandas import DataFrame,Series\n",
    "import numpy as np\n",
    "import matplotlib as plt\n",
    "% matplotlib inline\n",
    "from __future__ import division "
   ]
  },
  {
   "cell_type": "code",
   "execution_count": null,
   "metadata": {
    "collapsed": true
   },
   "outputs": [],
   "source": [
    "'''This data set contains information about the names,position and salary per annum , of employees at the white house.\n",
    "We will explore the following questions:\n",
    "1) Was the salary of an individual related to the length of his name( This is not a realistic question but helps learn some skills.\n",
    "2) What was the total salary payout\n",
    "3) What was the max and min salary and the names of the employees with those.\n",
    "4)Plot the distribution of salary using a histogram\n",
    "5) What was the mean, median salary.\n",
    "'''"
   ]
  },
  {
   "cell_type": "code",
   "execution_count": 36,
   "metadata": {
    "collapsed": false,
    "scrolled": true
   },
   "outputs": [],
   "source": [
    "w_h=pd.read_csv(\"whitehouse.csv\")"
   ]
  },
  {
   "cell_type": "code",
   "execution_count": 37,
   "metadata": {
    "collapsed": false
   },
   "outputs": [
    {
     "data": {
      "text/html": [
       "<div>\n",
       "<table border=\"1\" class=\"dataframe\">\n",
       "  <thead>\n",
       "    <tr style=\"text-align: right;\">\n",
       "      <th></th>\n",
       "      <th>Name</th>\n",
       "      <th>Status</th>\n",
       "      <th>Salary</th>\n",
       "      <th>Pay Basis</th>\n",
       "      <th>Position Title</th>\n",
       "    </tr>\n",
       "  </thead>\n",
       "  <tbody>\n",
       "    <tr>\n",
       "      <th>0</th>\n",
       "      <td>Abraham, Yohannes A.</td>\n",
       "      <td>Employee</td>\n",
       "      <td>$120000.00</td>\n",
       "      <td>Per Annum</td>\n",
       "      <td>SPECIAL ASSISTANT TO THE PRESIDENT AND CHIEF O...</td>\n",
       "    </tr>\n",
       "    <tr>\n",
       "      <th>1</th>\n",
       "      <td>Adler, Caroline E.</td>\n",
       "      <td>Employee</td>\n",
       "      <td>$75750.00</td>\n",
       "      <td>Per Annum</td>\n",
       "      <td>DEPUTY COMMUNICATIONS DIRECTOR</td>\n",
       "    </tr>\n",
       "    <tr>\n",
       "      <th>2</th>\n",
       "      <td>Agnew, David P.</td>\n",
       "      <td>Employee</td>\n",
       "      <td>$153500.00</td>\n",
       "      <td>Per Annum</td>\n",
       "      <td>DEPUTY ASSISTANT TO THE PRESIDENT AND DIRECTOR...</td>\n",
       "    </tr>\n",
       "    <tr>\n",
       "      <th>3</th>\n",
       "      <td>Aguilar, Rita C.</td>\n",
       "      <td>Employee</td>\n",
       "      <td>$90900.00</td>\n",
       "      <td>Per Annum</td>\n",
       "      <td>SENIOR CONFIRMATIONS ADVISOR</td>\n",
       "    </tr>\n",
       "    <tr>\n",
       "      <th>4</th>\n",
       "      <td>Alcantara, Elias</td>\n",
       "      <td>Employee</td>\n",
       "      <td>$42420.00</td>\n",
       "      <td>Per Annum</td>\n",
       "      <td>STAFF ASSISTANT</td>\n",
       "    </tr>\n",
       "  </tbody>\n",
       "</table>\n",
       "</div>"
      ],
      "text/plain": [
       "                   Name    Status      Salary  Pay Basis  \\\n",
       "0  Abraham, Yohannes A.  Employee  $120000.00  Per Annum   \n",
       "1    Adler, Caroline E.  Employee   $75750.00  Per Annum   \n",
       "2       Agnew, David P.  Employee  $153500.00  Per Annum   \n",
       "3      Aguilar, Rita C.  Employee   $90900.00  Per Annum   \n",
       "4     Alcantara, Elias   Employee   $42420.00  Per Annum   \n",
       "\n",
       "                                      Position Title  \n",
       "0  SPECIAL ASSISTANT TO THE PRESIDENT AND CHIEF O...  \n",
       "1                     DEPUTY COMMUNICATIONS DIRECTOR  \n",
       "2  DEPUTY ASSISTANT TO THE PRESIDENT AND DIRECTOR...  \n",
       "3                       SENIOR CONFIRMATIONS ADVISOR  \n",
       "4                                    STAFF ASSISTANT  "
      ]
     },
     "execution_count": 37,
     "metadata": {},
     "output_type": "execute_result"
    }
   ],
   "source": [
    "w_h.head()"
   ]
  },
  {
   "cell_type": "code",
   "execution_count": 38,
   "metadata": {
    "collapsed": false
   },
   "outputs": [],
   "source": [
    "# CALCULATE THE TOTAL SALARY PAID OUT "
   ]
  },
  {
   "cell_type": "code",
   "execution_count": 39,
   "metadata": {
    "collapsed": true
   },
   "outputs": [],
   "source": [
    "# TO DO THIS,WE WILL FIRST REMOVE THE DOLLAR SIGN IN THE SALARY COLUMN\n"
   ]
  },
  {
   "cell_type": "code",
   "execution_count": 34,
   "metadata": {
    "collapsed": false
   },
   "outputs": [],
   "source": []
  },
  {
   "cell_type": "code",
   "execution_count": 40,
   "metadata": {
    "collapsed": false
   },
   "outputs": [],
   "source": [
    "w_h[\"Salary\"]=w_h['Salary'].apply(lambda x: x.strip(\"$\"))"
   ]
  },
  {
   "cell_type": "code",
   "execution_count": 44,
   "metadata": {
    "collapsed": false
   },
   "outputs": [
    {
     "data": {
      "text/plain": [
       "dtype('float64')"
      ]
     },
     "execution_count": 44,
     "metadata": {},
     "output_type": "execute_result"
    }
   ],
   "source": [
    "w_h['Salary']=w_h['Salary'].astype(\"float\")\n",
    "w_h['Salary'].dtypes"
   ]
  },
  {
   "cell_type": "code",
   "execution_count": 45,
   "metadata": {
    "collapsed": false
   },
   "outputs": [],
   "source": [
    "w_h['Salary']=w_h['Salary'].apply(lambda x: round(x,0))"
   ]
  },
  {
   "cell_type": "code",
   "execution_count": 49,
   "metadata": {
    "collapsed": false
   },
   "outputs": [
    {
     "name": "stdout",
     "output_type": "stream",
     "text": [
      "Total salary paid out in white house in 2015 is 37776925\n"
     ]
    }
   ],
   "source": [
    "w_h[\"Salary\"].sum()\n",
    "\n",
    "print ( \"Total salary paid out in white house in 2015 is %0.f\" %w_h['Salary'].sum() )"
   ]
  },
  {
   "cell_type": "code",
   "execution_count": 50,
   "metadata": {
    "collapsed": true
   },
   "outputs": [],
   "source": [
    "# which employee got max and min salary "
   ]
  },
  {
   "cell_type": "code",
   "execution_count": 52,
   "metadata": {
    "collapsed": false
   },
   "outputs": [
    {
     "data": {
      "text/html": [
       "<div>\n",
       "<table border=\"1\" class=\"dataframe\">\n",
       "  <thead>\n",
       "    <tr style=\"text-align: right;\">\n",
       "      <th></th>\n",
       "      <th>Name</th>\n",
       "      <th>Salary</th>\n",
       "    </tr>\n",
       "  </thead>\n",
       "  <tbody>\n",
       "    <tr>\n",
       "      <th>30</th>\n",
       "      <td>Blinken, Antony J.</td>\n",
       "      <td>172200</td>\n",
       "    </tr>\n",
       "    <tr>\n",
       "      <th>38</th>\n",
       "      <td>Breckenridge, Anita J.</td>\n",
       "      <td>172200</td>\n",
       "    </tr>\n",
       "    <tr>\n",
       "      <th>59</th>\n",
       "      <td>Canegallo, Kristie A.</td>\n",
       "      <td>172200</td>\n",
       "    </tr>\n",
       "    <tr>\n",
       "      <th>97</th>\n",
       "      <td>Earnest, Joshua R.</td>\n",
       "      <td>172200</td>\n",
       "    </tr>\n",
       "    <tr>\n",
       "      <th>100</th>\n",
       "      <td>Eggleston, Warren N.</td>\n",
       "      <td>172200</td>\n",
       "    </tr>\n",
       "    <tr>\n",
       "      <th>106</th>\n",
       "      <td>Fallon, Katherine B.</td>\n",
       "      <td>172200</td>\n",
       "    </tr>\n",
       "    <tr>\n",
       "      <th>186</th>\n",
       "      <td>Jarrett, Valerie B.</td>\n",
       "      <td>172200</td>\n",
       "    </tr>\n",
       "    <tr>\n",
       "      <th>189</th>\n",
       "      <td>Johnson, Broderick D.</td>\n",
       "      <td>172200</td>\n",
       "    </tr>\n",
       "    <tr>\n",
       "      <th>198</th>\n",
       "      <td>Kale, Katy A.</td>\n",
       "      <td>172200</td>\n",
       "    </tr>\n",
       "    <tr>\n",
       "      <th>203</th>\n",
       "      <td>Keenan, Cody S.</td>\n",
       "      <td>172200</td>\n",
       "    </tr>\n",
       "    <tr>\n",
       "      <th>266</th>\n",
       "      <td>McDonough, Denis R.</td>\n",
       "      <td>172200</td>\n",
       "    </tr>\n",
       "    <tr>\n",
       "      <th>284</th>\n",
       "      <td>Monaco, Lisa O.</td>\n",
       "      <td>172200</td>\n",
       "    </tr>\n",
       "    <tr>\n",
       "      <th>291</th>\n",
       "      <td>Muñoz, Cecilia</td>\n",
       "      <td>172200</td>\n",
       "    </tr>\n",
       "    <tr>\n",
       "      <th>306</th>\n",
       "      <td>Palmieri, Jennifer M.</td>\n",
       "      <td>172200</td>\n",
       "    </tr>\n",
       "    <tr>\n",
       "      <th>319</th>\n",
       "      <td>Pfeiffer, Howard D.</td>\n",
       "      <td>172200</td>\n",
       "    </tr>\n",
       "    <tr>\n",
       "      <th>324</th>\n",
       "      <td>Podesta, John D.</td>\n",
       "      <td>172200</td>\n",
       "    </tr>\n",
       "    <tr>\n",
       "      <th>336</th>\n",
       "      <td>Rhodes, Benjamin J.</td>\n",
       "      <td>172200</td>\n",
       "    </tr>\n",
       "    <tr>\n",
       "      <th>337</th>\n",
       "      <td>Rice, Susan E.</td>\n",
       "      <td>172200</td>\n",
       "    </tr>\n",
       "    <tr>\n",
       "      <th>387</th>\n",
       "      <td>Simas, David M.</td>\n",
       "      <td>172200</td>\n",
       "    </tr>\n",
       "    <tr>\n",
       "      <th>408</th>\n",
       "      <td>Tchen, Christina M.</td>\n",
       "      <td>172200</td>\n",
       "    </tr>\n",
       "    <tr>\n",
       "      <th>444</th>\n",
       "      <td>White, Danielle M.</td>\n",
       "      <td>172200</td>\n",
       "    </tr>\n",
       "    <tr>\n",
       "      <th>455</th>\n",
       "      <td>Zients, Jeffrey D.</td>\n",
       "      <td>172200</td>\n",
       "    </tr>\n",
       "  </tbody>\n",
       "</table>\n",
       "</div>"
      ],
      "text/plain": [
       "                       Name  Salary\n",
       "30       Blinken, Antony J.  172200\n",
       "38   Breckenridge, Anita J.  172200\n",
       "59    Canegallo, Kristie A.  172200\n",
       "97       Earnest, Joshua R.  172200\n",
       "100    Eggleston, Warren N.  172200\n",
       "106    Fallon, Katherine B.  172200\n",
       "186     Jarrett, Valerie B.  172200\n",
       "189   Johnson, Broderick D.  172200\n",
       "198           Kale, Katy A.  172200\n",
       "203         Keenan, Cody S.  172200\n",
       "266     McDonough, Denis R.  172200\n",
       "284         Monaco, Lisa O.  172200\n",
       "291         Muñoz, Cecilia   172200\n",
       "306   Palmieri, Jennifer M.  172200\n",
       "319     Pfeiffer, Howard D.  172200\n",
       "324        Podesta, John D.  172200\n",
       "336     Rhodes, Benjamin J.  172200\n",
       "337          Rice, Susan E.  172200\n",
       "387         Simas, David M.  172200\n",
       "408     Tchen, Christina M.  172200\n",
       "444      White, Danielle M.  172200\n",
       "455      Zients, Jeffrey D.  172200"
      ]
     },
     "execution_count": 52,
     "metadata": {},
     "output_type": "execute_result"
    }
   ],
   "source": [
    "w_h[['Name','Salary']].loc[w_h['Salary']==w_h['Salary'].max()]"
   ]
  },
  {
   "cell_type": "code",
   "execution_count": 67,
   "metadata": {
    "collapsed": false
   },
   "outputs": [
    {
     "data": {
      "text/html": [
       "<div>\n",
       "<table border=\"1\" class=\"dataframe\">\n",
       "  <thead>\n",
       "    <tr style=\"text-align: right;\">\n",
       "      <th></th>\n",
       "      <th>Name</th>\n",
       "      <th>Salary</th>\n",
       "    </tr>\n",
       "  </thead>\n",
       "  <tbody>\n",
       "    <tr>\n",
       "      <th>6</th>\n",
       "      <td>Amendolare, Vincent C.</td>\n",
       "      <td>42000</td>\n",
       "    </tr>\n",
       "    <tr>\n",
       "      <th>56</th>\n",
       "      <td>Burglass, Summer A.</td>\n",
       "      <td>42000</td>\n",
       "    </tr>\n",
       "    <tr>\n",
       "      <th>60</th>\n",
       "      <td>Cantrell, Jeremy B.</td>\n",
       "      <td>42000</td>\n",
       "    </tr>\n",
       "    <tr>\n",
       "      <th>107</th>\n",
       "      <td>Fatemi, Mandana</td>\n",
       "      <td>42000</td>\n",
       "    </tr>\n",
       "    <tr>\n",
       "      <th>112</th>\n",
       "      <td>Fiddler, Leah C.</td>\n",
       "      <td>42000</td>\n",
       "    </tr>\n",
       "    <tr>\n",
       "      <th>124</th>\n",
       "      <td>Frohlichstein, Richard</td>\n",
       "      <td>42000</td>\n",
       "    </tr>\n",
       "    <tr>\n",
       "      <th>125</th>\n",
       "      <td>Gallogly, Katharine S.</td>\n",
       "      <td>42000</td>\n",
       "    </tr>\n",
       "    <tr>\n",
       "      <th>184</th>\n",
       "      <td>Jain, Ashwani K.</td>\n",
       "      <td>42000</td>\n",
       "    </tr>\n",
       "    <tr>\n",
       "      <th>239</th>\n",
       "      <td>Lin, Austin Y.</td>\n",
       "      <td>42000</td>\n",
       "    </tr>\n",
       "    <tr>\n",
       "      <th>254</th>\n",
       "      <td>Mann, Dominique J.</td>\n",
       "      <td>42000</td>\n",
       "    </tr>\n",
       "    <tr>\n",
       "      <th>261</th>\n",
       "      <td>Mayber, Dana M.</td>\n",
       "      <td>42000</td>\n",
       "    </tr>\n",
       "    <tr>\n",
       "      <th>352</th>\n",
       "      <td>Roshan, Nila</td>\n",
       "      <td>42000</td>\n",
       "    </tr>\n",
       "    <tr>\n",
       "      <th>354</th>\n",
       "      <td>Roth, Dena M.</td>\n",
       "      <td>42000</td>\n",
       "    </tr>\n",
       "    <tr>\n",
       "      <th>356</th>\n",
       "      <td>Rothman, Mika L.</td>\n",
       "      <td>42000</td>\n",
       "    </tr>\n",
       "    <tr>\n",
       "      <th>359</th>\n",
       "      <td>Rubinstein, Stefanie N.</td>\n",
       "      <td>42000</td>\n",
       "    </tr>\n",
       "    <tr>\n",
       "      <th>360</th>\n",
       "      <td>Ruvin, Hallie M.</td>\n",
       "      <td>42000</td>\n",
       "    </tr>\n",
       "    <tr>\n",
       "      <th>373</th>\n",
       "      <td>Schinazi, Yann D.</td>\n",
       "      <td>42000</td>\n",
       "    </tr>\n",
       "    <tr>\n",
       "      <th>375</th>\n",
       "      <td>Schneider, Michael P.</td>\n",
       "      <td>42000</td>\n",
       "    </tr>\n",
       "    <tr>\n",
       "      <th>415</th>\n",
       "      <td>Thomas, Debbie A.</td>\n",
       "      <td>42000</td>\n",
       "    </tr>\n",
       "    <tr>\n",
       "      <th>445</th>\n",
       "      <td>Wild, Clayton S.</td>\n",
       "      <td>42000</td>\n",
       "    </tr>\n",
       "  </tbody>\n",
       "</table>\n",
       "</div>"
      ],
      "text/plain": [
       "                        Name  Salary\n",
       "6     Amendolare, Vincent C.   42000\n",
       "56       Burglass, Summer A.   42000\n",
       "60       Cantrell, Jeremy B.   42000\n",
       "107         Fatemi, Mandana    42000\n",
       "112         Fiddler, Leah C.   42000\n",
       "124  Frohlichstein, Richard    42000\n",
       "125   Gallogly, Katharine S.   42000\n",
       "184         Jain, Ashwani K.   42000\n",
       "239           Lin, Austin Y.   42000\n",
       "254       Mann, Dominique J.   42000\n",
       "261          Mayber, Dana M.   42000\n",
       "352            Roshan, Nila    42000\n",
       "354            Roth, Dena M.   42000\n",
       "356         Rothman, Mika L.   42000\n",
       "359  Rubinstein, Stefanie N.   42000\n",
       "360         Ruvin, Hallie M.   42000\n",
       "373        Schinazi, Yann D.   42000\n",
       "375    Schneider, Michael P.   42000\n",
       "415        Thomas, Debbie A.   42000\n",
       "445         Wild, Clayton S.   42000"
      ]
     },
     "execution_count": 67,
     "metadata": {},
     "output_type": "execute_result"
    }
   ],
   "source": [
    "w_h[['Name','Salary']].loc[w_h['Salary']==w_h['Salary'].min()]"
   ]
  },
  {
   "cell_type": "code",
   "execution_count": 59,
   "metadata": {
    "collapsed": false
   },
   "outputs": [],
   "source": [
    "# Lets drop these two rows and then get the min salary "
   ]
  },
  {
   "cell_type": "code",
   "execution_count": 73,
   "metadata": {
    "collapsed": false
   },
   "outputs": [
    {
     "data": {
      "text/plain": [
       "<matplotlib.axes._subplots.AxesSubplot at 0x10cbcdbd0>"
      ]
     },
     "execution_count": 73,
     "metadata": {},
     "output_type": "execute_result"
    },
    {
     "data": {
      "image/png": "[encoded data removed]",
      "text/plain": [
       "<matplotlib.figure.Figure at 0x10cb56a90>"
      ]
     },
     "metadata": {},
     "output_type": "display_data"
    }
   ],
   "source": [
    "w_h[\"Salary\"].hist(bins=40,color=\"seagreen\")"
   ]
  },
  {
   "cell_type": "code",
   "execution_count": 74,
   "metadata": {
    "collapsed": false
   },
   "outputs": [],
   "source": [
    "# what % of employees were in salary range <50000\n"
   ]
  },
  {
   "cell_type": "code",
   "execution_count": 79,
   "metadata": {
    "collapsed": true
   },
   "outputs": [],
   "source": [
    "w_h_salary=w_h[w_h[\"Salary\"]<=50000]"
   ]
  },
  {
   "cell_type": "code",
   "execution_count": 86,
   "metadata": {
    "collapsed": false
   },
   "outputs": [
    {
     "data": {
      "text/plain": [
       "24.44933920704846"
      ]
     },
     "execution_count": 86,
     "metadata": {},
     "output_type": "execute_result"
    }
   ],
   "source": [
    "(w_h_salary.shape[0]/w_h.shape[0])*100"
   ]
  },
  {
   "cell_type": "code",
   "execution_count": 91,
   "metadata": {
    "collapsed": false
   },
   "outputs": [],
   "source": [
    "# what is the mean salary and what % of employees were above the mean.\n",
    "        "
   ]
  },
  {
   "cell_type": "code",
   "execution_count": 118,
   "metadata": {
    "collapsed": false
   },
   "outputs": [
    {
     "data": {
      "text/plain": [
       "83209.0859030837"
      ]
     },
     "execution_count": 118,
     "metadata": {},
     "output_type": "execute_result"
    }
   ],
   "source": [
    "mean_sal=w_h['Salary'].mean()\n",
    "mean_sal"
   ]
  },
  {
   "cell_type": "code",
   "execution_count": 120,
   "metadata": {
    "collapsed": false
   },
   "outputs": [],
   "source": [
    "names_more_mean=w_h['Name'][w_h[\"Salary\"]>mean_sal]"
   ]
  },
  {
   "cell_type": "code",
   "execution_count": 121,
   "metadata": {
    "collapsed": false
   },
   "outputs": [
    {
     "data": {
      "text/plain": [
       "189"
      ]
     },
     "execution_count": 121,
     "metadata": {},
     "output_type": "execute_result"
    }
   ],
   "source": [
    "names_more_mean.shape[0]"
   ]
  },
  {
   "cell_type": "code",
   "execution_count": 122,
   "metadata": {
    "collapsed": false
   },
   "outputs": [
    {
     "data": {
      "text/plain": [
       "454"
      ]
     },
     "execution_count": 122,
     "metadata": {},
     "output_type": "execute_result"
    }
   ],
   "source": [
    "w_h.shape[0]"
   ]
  },
  {
   "cell_type": "code",
   "execution_count": 123,
   "metadata": {
    "collapsed": true
   },
   "outputs": [],
   "source": [
    "more_percent= (189/454)*100"
   ]
  },
  {
   "cell_type": "code",
   "execution_count": 124,
   "metadata": {
    "collapsed": false
   },
   "outputs": [
    {
     "name": "stdout",
     "output_type": "stream",
     "text": [
      "42 percent of staff had salary greater than mean\n"
     ]
    }
   ],
   "source": [
    "print ( \"%.0f percent of staff had salary greater than mean\" %more_percent )"
   ]
  },
  {
   "cell_type": "code",
   "execution_count": 125,
   "metadata": {
    "collapsed": true
   },
   "outputs": [],
   "source": [
    "# median salary \n",
    "med =w_h['Salary'].median()"
   ]
  },
  {
   "cell_type": "code",
   "execution_count": 117,
   "metadata": {
    "collapsed": false
   },
   "outputs": [
    {
     "data": {
      "text/plain": [
       "70700.0"
      ]
     },
     "execution_count": 117,
     "metadata": {},
     "output_type": "execute_result"
    }
   ],
   "source": [
    "med"
   ]
  },
  {
   "cell_type": "code",
   "execution_count": 126,
   "metadata": {
    "collapsed": true
   },
   "outputs": [],
   "source": [
    "names_more_median=w_h['Name'][w_h[\"Salary\"]>med]"
   ]
  },
  {
   "cell_type": "code",
   "execution_count": 128,
   "metadata": {
    "collapsed": false
   },
   "outputs": [
    {
     "data": {
      "text/plain": [
       "223"
      ]
     },
     "execution_count": 128,
     "metadata": {},
     "output_type": "execute_result"
    }
   ],
   "source": [
    "names_more_median.shape[0]"
   ]
  },
  {
   "cell_type": "code",
   "execution_count": 131,
   "metadata": {
    "collapsed": false
   },
   "outputs": [
    {
     "data": {
      "text/html": [
       "<div>\n",
       "<table border=\"1\" class=\"dataframe\">\n",
       "  <thead>\n",
       "    <tr style=\"text-align: right;\">\n",
       "      <th></th>\n",
       "      <th>Salary</th>\n",
       "    </tr>\n",
       "  </thead>\n",
       "  <tbody>\n",
       "    <tr>\n",
       "      <th>count</th>\n",
       "      <td>454.000000</td>\n",
       "    </tr>\n",
       "    <tr>\n",
       "      <th>mean</th>\n",
       "      <td>83209.085903</td>\n",
       "    </tr>\n",
       "    <tr>\n",
       "      <th>std</th>\n",
       "      <td>38904.963084</td>\n",
       "    </tr>\n",
       "    <tr>\n",
       "      <th>min</th>\n",
       "      <td>42000.000000</td>\n",
       "    </tr>\n",
       "    <tr>\n",
       "      <th>25%</th>\n",
       "      <td>50500.000000</td>\n",
       "    </tr>\n",
       "    <tr>\n",
       "      <th>50%</th>\n",
       "      <td>70700.000000</td>\n",
       "    </tr>\n",
       "    <tr>\n",
       "      <th>75%</th>\n",
       "      <td>111500.000000</td>\n",
       "    </tr>\n",
       "    <tr>\n",
       "      <th>max</th>\n",
       "      <td>172200.000000</td>\n",
       "    </tr>\n",
       "  </tbody>\n",
       "</table>\n",
       "</div>"
      ],
      "text/plain": [
       "              Salary\n",
       "count     454.000000\n",
       "mean    83209.085903\n",
       "std     38904.963084\n",
       "min     42000.000000\n",
       "25%     50500.000000\n",
       "50%     70700.000000\n",
       "75%    111500.000000\n",
       "max    172200.000000"
      ]
     },
     "execution_count": 131,
     "metadata": {},
     "output_type": "execute_result"
    }
   ],
   "source": [
    "w_h.describe()"
   ]
  },
  {
   "cell_type": "code",
   "execution_count": null,
   "metadata": {
    "collapsed": true
   },
   "outputs": [],
   "source": [
    "# The describe method gives us the mean, median , max and min salary."
   ]
  },
  {
   "cell_type": "code",
   "execution_count": null,
   "metadata": {
    "collapsed": true
   },
   "outputs": [],
   "source": []
  }
 ],
 "metadata": {
  "kernelspec": {
   "display_name": "Python 2",
   "language": "python",
   "name": "python2"
  },
  "language_info": {
   "codemirror_mode": {
    "name": "ipython",
    "version": 2
   },
   "file_extension": ".py",
   "mimetype": "text/x-python",
   "name": "python",
   "nbconvert_exporter": "python",
   "pygments_lexer": "ipython2",
   "version": "2.7.11"
  }
 },
 "nbformat": 4,
 "nbformat_minor": 0
}
